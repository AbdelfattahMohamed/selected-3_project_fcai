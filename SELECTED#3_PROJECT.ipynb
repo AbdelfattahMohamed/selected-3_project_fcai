{
 "cells": [
  {
   "cell_type": "markdown",
   "metadata": {},
   "source": [
    "## IDEA : Identify and Classify Documents by topic\n",
    "`Names:`\n",
    "    - Abdelfattah Mohamed\n",
    "    - Abdelrahman Ali \n",
    "    - Aya Alaa\n",
    "    - Gehad Radwan\n",
    "\n",
    "> `Description of our idea:`\n",
    "    we will use dataset scrapped from Makeup site and make classification on it.\n",
    "    Dataset : https://github.com/aniass/Extracting-data-using-API or\n",
    "              https://www.kaggle.com/oftomorrow/herokuapp-makeup-products\n",
    "    Site Scrapped : http://makeup-api.herokuapp.com/"
   ]
  },
  {
   "cell_type": "markdown",
   "metadata": {},
   "source": [
    "### 01) Importing packages and loading data"
   ]
  },
  {
   "cell_type": "code",
   "execution_count": 1,
   "metadata": {},
   "outputs": [],
   "source": [
    "# MATH LIBRARIES\n",
    "import pandas as pd\n",
    "import numpy as np\n",
    "# NLP LIBRARIES\n",
    "import nltk\n",
    "import string\n",
    "from nltk.corpus import stopwords\n",
    "from nltk.stem import PorterStemmer\n",
    "from nltk.tokenize import sent_tokenize, word_tokenize\n",
    "# VISUALIZATION LIBRARIES\n",
    "import matplotlib.pyplot as plt\n",
    "%matplotlib inline\n",
    "import seaborn as sns\n",
    "#Feature Extraction\n",
    "from sklearn.feature_extraction.text import CountVectorizer\n",
    "from sklearn.feature_extraction.text import TfidfTransformer\n",
    "# SPLITTING DATA\n",
    "from sklearn.model_selection import train_test_split\n",
    "# LOGISTIC REGRESSION\n",
    "from sklearn.linear_model import LogisticRegression\n",
    "# Confusion matrix, Report, Accuracy\n",
    "from sklearn.metrics import confusion_matrix, accuracy_score, classification_report"
   ]
  },
  {
   "cell_type": "code",
   "execution_count": 2,
   "metadata": {},
   "outputs": [
    {
     "data": {
      "text/html": [
       "<div>\n",
       "<style scoped>\n",
       "    .dataframe tbody tr th:only-of-type {\n",
       "        vertical-align: middle;\n",
       "    }\n",
       "\n",
       "    .dataframe tbody tr th {\n",
       "        vertical-align: top;\n",
       "    }\n",
       "\n",
       "    .dataframe thead th {\n",
       "        text-align: right;\n",
       "    }\n",
       "</style>\n",
       "<table border=\"1\" class=\"dataframe\">\n",
       "  <thead>\n",
       "    <tr style=\"text-align: right;\">\n",
       "      <th></th>\n",
       "      <th>product_type</th>\n",
       "      <th>description</th>\n",
       "    </tr>\n",
       "  </thead>\n",
       "  <tbody>\n",
       "    <tr>\n",
       "      <th>0</th>\n",
       "      <td>lip_liner</td>\n",
       "      <td>Lippie Pencil A long-wearing and high-intensit...</td>\n",
       "    </tr>\n",
       "    <tr>\n",
       "      <th>1</th>\n",
       "      <td>lipstick</td>\n",
       "      <td>Blotted Lip Sheer matte lipstick that creates ...</td>\n",
       "    </tr>\n",
       "    <tr>\n",
       "      <th>2</th>\n",
       "      <td>lipstick</td>\n",
       "      <td>Lippie Stix Formula contains Vitamin E, Mango,...</td>\n",
       "    </tr>\n",
       "    <tr>\n",
       "      <th>3</th>\n",
       "      <td>foundation</td>\n",
       "      <td>Developed for the Selfie Age, our buildable fu...</td>\n",
       "    </tr>\n",
       "    <tr>\n",
       "      <th>4</th>\n",
       "      <td>lipstick</td>\n",
       "      <td>All of our products are free from lead and hea...</td>\n",
       "    </tr>\n",
       "  </tbody>\n",
       "</table>\n",
       "</div>"
      ],
      "text/plain": [
       "  product_type                                        description\n",
       "0    lip_liner  Lippie Pencil A long-wearing and high-intensit...\n",
       "1     lipstick  Blotted Lip Sheer matte lipstick that creates ...\n",
       "2     lipstick  Lippie Stix Formula contains Vitamin E, Mango,...\n",
       "3   foundation  Developed for the Selfie Age, our buildable fu...\n",
       "4     lipstick  All of our products are free from lead and hea..."
      ]
     },
     "execution_count": 2,
     "metadata": {},
     "output_type": "execute_result"
    }
   ],
   "source": [
    "df = pd.read_csv('dataset/Herokuapp_Makeup_Products.csv', header=0,index_col=0)\n",
    "df.head()"
   ]
  },
  {
   "cell_type": "markdown",
   "metadata": {},
   "source": [
    "### 02) Data Analysis"
   ]
  },
  {
   "cell_type": "code",
   "execution_count": 3,
   "metadata": {},
   "outputs": [
    {
     "name": "stdout",
     "output_type": "stream",
     "text": [
      "<class 'pandas.core.frame.DataFrame'>\n",
      "Int64Index: 906 entries, 0 to 930\n",
      "Data columns (total 2 columns):\n",
      " #   Column        Non-Null Count  Dtype \n",
      "---  ------        --------------  ----- \n",
      " 0   product_type  906 non-null    object\n",
      " 1   description   906 non-null    object\n",
      "dtypes: object(2)\n",
      "memory usage: 21.2+ KB\n"
     ]
    }
   ],
   "source": [
    "df.info()"
   ]
  },
  {
   "cell_type": "code",
   "execution_count": 4,
   "metadata": {},
   "outputs": [
    {
     "data": {
      "text/html": [
       "<div>\n",
       "<style scoped>\n",
       "    .dataframe tbody tr th:only-of-type {\n",
       "        vertical-align: middle;\n",
       "    }\n",
       "\n",
       "    .dataframe tbody tr th {\n",
       "        vertical-align: top;\n",
       "    }\n",
       "\n",
       "    .dataframe thead th {\n",
       "        text-align: right;\n",
       "    }\n",
       "</style>\n",
       "<table border=\"1\" class=\"dataframe\">\n",
       "  <thead>\n",
       "    <tr style=\"text-align: right;\">\n",
       "      <th></th>\n",
       "      <th>product_type</th>\n",
       "      <th>description</th>\n",
       "    </tr>\n",
       "  </thead>\n",
       "  <tbody>\n",
       "    <tr>\n",
       "      <th>0</th>\n",
       "      <td>lip_liner</td>\n",
       "      <td>Lippie Pencil A long-wearing and high-intensit...</td>\n",
       "    </tr>\n",
       "    <tr>\n",
       "      <th>1</th>\n",
       "      <td>lipstick</td>\n",
       "      <td>Blotted Lip Sheer matte lipstick that creates ...</td>\n",
       "    </tr>\n",
       "    <tr>\n",
       "      <th>2</th>\n",
       "      <td>lipstick</td>\n",
       "      <td>Lippie Stix Formula contains Vitamin E, Mango,...</td>\n",
       "    </tr>\n",
       "    <tr>\n",
       "      <th>3</th>\n",
       "      <td>foundation</td>\n",
       "      <td>Developed for the Selfie Age, our buildable fu...</td>\n",
       "    </tr>\n",
       "    <tr>\n",
       "      <th>4</th>\n",
       "      <td>lipstick</td>\n",
       "      <td>All of our products are free from lead and hea...</td>\n",
       "    </tr>\n",
       "  </tbody>\n",
       "</table>\n",
       "</div>"
      ],
      "text/plain": [
       "  product_type                                        description\n",
       "0    lip_liner  Lippie Pencil A long-wearing and high-intensit...\n",
       "1     lipstick  Blotted Lip Sheer matte lipstick that creates ...\n",
       "2     lipstick  Lippie Stix Formula contains Vitamin E, Mango,...\n",
       "3   foundation  Developed for the Selfie Age, our buildable fu...\n",
       "4     lipstick  All of our products are free from lead and hea..."
      ]
     },
     "execution_count": 4,
     "metadata": {},
     "output_type": "execute_result"
    }
   ],
   "source": [
    "# copying df to text_df to work on it\n",
    "text_df = df.copy()\n",
    "text_df.head()"
   ]
  },
  {
   "cell_type": "code",
   "execution_count": 5,
   "metadata": {},
   "outputs": [
    {
     "data": {
      "text/plain": [
       "(906, 2)"
      ]
     },
     "execution_count": 5,
     "metadata": {},
     "output_type": "execute_result"
    }
   ],
   "source": [
    "# The size of dataset\n",
    "text_df.shape"
   ]
  },
  {
   "cell_type": "code",
   "execution_count": 6,
   "metadata": {},
   "outputs": [
    {
     "data": {
      "text/plain": [
       "'Serum Foundations are lightweight medium-coverage formulations available in a comprehensive shade range across 21 shades. These foundations offer moderate coverage that looks natural with a very lightweight serum feel. They are very low in viscosity and are dispensed with the supplied pump or with the optional glass dropper available for purchase separately if preferred. '"
      ]
     },
     "execution_count": 6,
     "metadata": {},
     "output_type": "execute_result"
    }
   ],
   "source": [
    "text_df['description'][5]"
   ]
  },
  {
   "cell_type": "code",
   "execution_count": 7,
   "metadata": {},
   "outputs": [
    {
     "data": {
      "text/plain": [
       "product_type    0\n",
       "description     0\n",
       "dtype: int64"
      ]
     },
     "execution_count": 7,
     "metadata": {},
     "output_type": "execute_result"
    }
   ],
   "source": [
    "# Check missing values ?\n",
    "text_df.isnull().sum()"
   ]
  },
  {
   "cell_type": "code",
   "execution_count": 8,
   "metadata": {},
   "outputs": [],
   "source": [
    "# Data type change:\n",
    "text_df['description'] = text_df['description'].astype(str)"
   ]
  },
  {
   "cell_type": "code",
   "execution_count": 9,
   "metadata": {},
   "outputs": [
    {
     "data": {
      "text/html": [
       "<div>\n",
       "<style scoped>\n",
       "    .dataframe tbody tr th:only-of-type {\n",
       "        vertical-align: middle;\n",
       "    }\n",
       "\n",
       "    .dataframe tbody tr th {\n",
       "        vertical-align: top;\n",
       "    }\n",
       "\n",
       "    .dataframe thead th {\n",
       "        text-align: right;\n",
       "    }\n",
       "</style>\n",
       "<table border=\"1\" class=\"dataframe\">\n",
       "  <thead>\n",
       "    <tr style=\"text-align: right;\">\n",
       "      <th></th>\n",
       "      <th>product_type</th>\n",
       "      <th>description</th>\n",
       "      <th>length</th>\n",
       "    </tr>\n",
       "  </thead>\n",
       "  <tbody>\n",
       "    <tr>\n",
       "      <th>0</th>\n",
       "      <td>lip_liner</td>\n",
       "      <td>Lippie Pencil A long-wearing and high-intensit...</td>\n",
       "      <td>232</td>\n",
       "    </tr>\n",
       "    <tr>\n",
       "      <th>1</th>\n",
       "      <td>lipstick</td>\n",
       "      <td>Blotted Lip Sheer matte lipstick that creates ...</td>\n",
       "      <td>146</td>\n",
       "    </tr>\n",
       "    <tr>\n",
       "      <th>2</th>\n",
       "      <td>lipstick</td>\n",
       "      <td>Lippie Stix Formula contains Vitamin E, Mango,...</td>\n",
       "      <td>188</td>\n",
       "    </tr>\n",
       "    <tr>\n",
       "      <th>3</th>\n",
       "      <td>foundation</td>\n",
       "      <td>Developed for the Selfie Age, our buildable fu...</td>\n",
       "      <td>492</td>\n",
       "    </tr>\n",
       "    <tr>\n",
       "      <th>4</th>\n",
       "      <td>lipstick</td>\n",
       "      <td>All of our products are free from lead and hea...</td>\n",
       "      <td>357</td>\n",
       "    </tr>\n",
       "  </tbody>\n",
       "</table>\n",
       "</div>"
      ],
      "text/plain": [
       "  product_type                                        description  length\n",
       "0    lip_liner  Lippie Pencil A long-wearing and high-intensit...     232\n",
       "1     lipstick  Blotted Lip Sheer matte lipstick that creates ...     146\n",
       "2     lipstick  Lippie Stix Formula contains Vitamin E, Mango,...     188\n",
       "3   foundation  Developed for the Selfie Age, our buildable fu...     492\n",
       "4     lipstick  All of our products are free from lead and hea...     357"
      ]
     },
     "execution_count": 9,
     "metadata": {},
     "output_type": "execute_result"
    }
   ],
   "source": [
    "# Lenght of characters\n",
    "text_df['length'] = text_df['description'].apply(len)\n",
    "text_df.head()"
   ]
  },
  {
   "cell_type": "code",
   "execution_count": 10,
   "metadata": {},
   "outputs": [
    {
     "data": {
      "text/plain": [
       "array(['lip_liner', 'lipstick', 'foundation', 'eyeliner', 'eyeshadow',\n",
       "       'blush', 'bronzer', 'mascara', 'eyebrow', 'nail_polish'],\n",
       "      dtype=object)"
      ]
     },
     "execution_count": 10,
     "metadata": {},
     "output_type": "execute_result"
    }
   ],
   "source": [
    "# MAYBE WILL MAKE THIS OUR CATEGORIES \"CLASSES\"\n",
    "text_df.product_type.unique()"
   ]
  },
  {
   "cell_type": "code",
   "execution_count": 11,
   "metadata": {},
   "outputs": [
    {
     "data": {
      "text/plain": [
       "count     906.000000\n",
       "mean      648.370861\n",
       "std       827.022094\n",
       "min         9.000000\n",
       "25%       217.000000\n",
       "50%       357.000000\n",
       "75%       722.250000\n",
       "max      5540.000000\n",
       "Name: length, dtype: float64"
      ]
     },
     "execution_count": 11,
     "metadata": {},
     "output_type": "execute_result"
    }
   ],
   "source": [
    "# Statistics\n",
    "text_df['length'].describe()"
   ]
  },
  {
   "cell_type": "code",
   "execution_count": 12,
   "metadata": {},
   "outputs": [
    {
     "data": {
      "text/plain": [
       "foundation     159\n",
       "lipstick       148\n",
       "eyeliner       145\n",
       "mascara         91\n",
       "eyeshadow       86\n",
       "blush           75\n",
       "bronzer         69\n",
       "nail_polish     60\n",
       "eyebrow         45\n",
       "lip_liner       28\n",
       "Name: product_type, dtype: int64"
      ]
     },
     "execution_count": 12,
     "metadata": {},
     "output_type": "execute_result"
    }
   ],
   "source": [
    "# Count values for each class\n",
    "text_df.product_type.value_counts()"
   ]
  },
  {
   "cell_type": "code",
   "execution_count": 13,
   "metadata": {},
   "outputs": [],
   "source": [
    "'''\n",
    "Grouping data with similar names\n",
    "'''\n",
    "text_df.loc[text_df['product_type'].isin(['eyeliner','eyeshadow','mascara','eyebrow']),'product_type'] = 'eye_makeup'\n",
    "text_df.loc[text_df['product_type'].isin(['blush','bronzer']),'product_type'] = 'contour'\n",
    "text_df.loc[text_df['product_type'].isin(['lipstick','lip_liner']),'product_type'] = 'lipstick'"
   ]
  },
  {
   "cell_type": "code",
   "execution_count": 14,
   "metadata": {},
   "outputs": [
    {
     "data": {
      "text/plain": [
       "eye_makeup     367\n",
       "lipstick       176\n",
       "foundation     159\n",
       "contour        144\n",
       "nail_polish     60\n",
       "Name: product_type, dtype: int64"
      ]
     },
     "execution_count": 14,
     "metadata": {},
     "output_type": "execute_result"
    }
   ],
   "source": [
    "#Check \n",
    "'''\n",
    "After run this cell we will have five group of classes:\n",
    "Eye makeup \n",
    "Lipstick\n",
    "Foundation\n",
    "Contour\n",
    "Nail polish\n",
    "'''\n",
    "text_df.product_type.value_counts()"
   ]
  },
  {
   "cell_type": "code",
   "execution_count": 15,
   "metadata": {},
   "outputs": [],
   "source": [
    "# Mapping data to numeric data for learning\n",
    "df_mapping = {\n",
    "    'eye_makeup': 1,\n",
    "    'lipstick': 2,\n",
    "    'foundation': 3,\n",
    "    'contour': 4,\n",
    "    'nail_polish': 5}"
   ]
  },
  {
   "cell_type": "code",
   "execution_count": 16,
   "metadata": {},
   "outputs": [
    {
     "data": {
      "text/html": [
       "<div>\n",
       "<style scoped>\n",
       "    .dataframe tbody tr th:only-of-type {\n",
       "        vertical-align: middle;\n",
       "    }\n",
       "\n",
       "    .dataframe tbody tr th {\n",
       "        vertical-align: top;\n",
       "    }\n",
       "\n",
       "    .dataframe thead th {\n",
       "        text-align: right;\n",
       "    }\n",
       "</style>\n",
       "<table border=\"1\" class=\"dataframe\">\n",
       "  <thead>\n",
       "    <tr style=\"text-align: right;\">\n",
       "      <th></th>\n",
       "      <th>product_type</th>\n",
       "      <th>description</th>\n",
       "      <th>length</th>\n",
       "    </tr>\n",
       "  </thead>\n",
       "  <tbody>\n",
       "    <tr>\n",
       "      <th>0</th>\n",
       "      <td>2</td>\n",
       "      <td>Lippie Pencil A long-wearing and high-intensit...</td>\n",
       "      <td>232</td>\n",
       "    </tr>\n",
       "    <tr>\n",
       "      <th>1</th>\n",
       "      <td>2</td>\n",
       "      <td>Blotted Lip Sheer matte lipstick that creates ...</td>\n",
       "      <td>146</td>\n",
       "    </tr>\n",
       "    <tr>\n",
       "      <th>2</th>\n",
       "      <td>2</td>\n",
       "      <td>Lippie Stix Formula contains Vitamin E, Mango,...</td>\n",
       "      <td>188</td>\n",
       "    </tr>\n",
       "    <tr>\n",
       "      <th>3</th>\n",
       "      <td>3</td>\n",
       "      <td>Developed for the Selfie Age, our buildable fu...</td>\n",
       "      <td>492</td>\n",
       "    </tr>\n",
       "    <tr>\n",
       "      <th>4</th>\n",
       "      <td>2</td>\n",
       "      <td>All of our products are free from lead and hea...</td>\n",
       "      <td>357</td>\n",
       "    </tr>\n",
       "  </tbody>\n",
       "</table>\n",
       "</div>"
      ],
      "text/plain": [
       "   product_type                                        description  length\n",
       "0             2  Lippie Pencil A long-wearing and high-intensit...     232\n",
       "1             2  Blotted Lip Sheer matte lipstick that creates ...     146\n",
       "2             2  Lippie Stix Formula contains Vitamin E, Mango,...     188\n",
       "3             3  Developed for the Selfie Age, our buildable fu...     492\n",
       "4             2  All of our products are free from lead and hea...     357"
      ]
     },
     "execution_count": 16,
     "metadata": {},
     "output_type": "execute_result"
    }
   ],
   "source": [
    "# Applying\n",
    "text_df['product_type'] = text_df['product_type'].map(df_mapping)\n",
    "text_df.head()"
   ]
  },
  {
   "cell_type": "code",
   "execution_count": 17,
   "metadata": {},
   "outputs": [
    {
     "data": {
      "text/html": [
       "<div>\n",
       "<style scoped>\n",
       "    .dataframe tbody tr th:only-of-type {\n",
       "        vertical-align: middle;\n",
       "    }\n",
       "\n",
       "    .dataframe tbody tr th {\n",
       "        vertical-align: top;\n",
       "    }\n",
       "\n",
       "    .dataframe thead tr th {\n",
       "        text-align: left;\n",
       "    }\n",
       "\n",
       "    .dataframe thead tr:last-of-type th {\n",
       "        text-align: right;\n",
       "    }\n",
       "</style>\n",
       "<table border=\"1\" class=\"dataframe\">\n",
       "  <thead>\n",
       "    <tr>\n",
       "      <th></th>\n",
       "      <th colspan=\"8\" halign=\"left\">length</th>\n",
       "    </tr>\n",
       "    <tr>\n",
       "      <th></th>\n",
       "      <th>count</th>\n",
       "      <th>mean</th>\n",
       "      <th>std</th>\n",
       "      <th>min</th>\n",
       "      <th>25%</th>\n",
       "      <th>50%</th>\n",
       "      <th>75%</th>\n",
       "      <th>max</th>\n",
       "    </tr>\n",
       "    <tr>\n",
       "      <th>product_type</th>\n",
       "      <th></th>\n",
       "      <th></th>\n",
       "      <th></th>\n",
       "      <th></th>\n",
       "      <th></th>\n",
       "      <th></th>\n",
       "      <th></th>\n",
       "      <th></th>\n",
       "    </tr>\n",
       "  </thead>\n",
       "  <tbody>\n",
       "    <tr>\n",
       "      <th>1</th>\n",
       "      <td>367.0</td>\n",
       "      <td>671.245232</td>\n",
       "      <td>848.229561</td>\n",
       "      <td>14.0</td>\n",
       "      <td>216.00</td>\n",
       "      <td>341.0</td>\n",
       "      <td>794.50</td>\n",
       "      <td>5482.0</td>\n",
       "    </tr>\n",
       "    <tr>\n",
       "      <th>2</th>\n",
       "      <td>176.0</td>\n",
       "      <td>561.988636</td>\n",
       "      <td>834.540448</td>\n",
       "      <td>9.0</td>\n",
       "      <td>199.25</td>\n",
       "      <td>311.5</td>\n",
       "      <td>544.00</td>\n",
       "      <td>5540.0</td>\n",
       "    </tr>\n",
       "    <tr>\n",
       "      <th>3</th>\n",
       "      <td>159.0</td>\n",
       "      <td>686.754717</td>\n",
       "      <td>942.734917</td>\n",
       "      <td>22.0</td>\n",
       "      <td>240.00</td>\n",
       "      <td>366.0</td>\n",
       "      <td>582.00</td>\n",
       "      <td>4830.0</td>\n",
       "    </tr>\n",
       "    <tr>\n",
       "      <th>4</th>\n",
       "      <td>144.0</td>\n",
       "      <td>707.451389</td>\n",
       "      <td>762.697759</td>\n",
       "      <td>15.0</td>\n",
       "      <td>236.50</td>\n",
       "      <td>403.5</td>\n",
       "      <td>1090.25</td>\n",
       "      <td>5374.0</td>\n",
       "    </tr>\n",
       "    <tr>\n",
       "      <th>5</th>\n",
       "      <td>60.0</td>\n",
       "      <td>518.333333</td>\n",
       "      <td>342.244469</td>\n",
       "      <td>95.0</td>\n",
       "      <td>218.00</td>\n",
       "      <td>546.5</td>\n",
       "      <td>791.50</td>\n",
       "      <td>1252.0</td>\n",
       "    </tr>\n",
       "  </tbody>\n",
       "</table>\n",
       "</div>"
      ],
      "text/plain": [
       "             length                                                        \\\n",
       "              count        mean         std   min     25%    50%      75%   \n",
       "product_type                                                                \n",
       "1             367.0  671.245232  848.229561  14.0  216.00  341.0   794.50   \n",
       "2             176.0  561.988636  834.540448   9.0  199.25  311.5   544.00   \n",
       "3             159.0  686.754717  942.734917  22.0  240.00  366.0   582.00   \n",
       "4             144.0  707.451389  762.697759  15.0  236.50  403.5  1090.25   \n",
       "5              60.0  518.333333  342.244469  95.0  218.00  546.5   791.50   \n",
       "\n",
       "                      \n",
       "                 max  \n",
       "product_type          \n",
       "1             5482.0  \n",
       "2             5540.0  \n",
       "3             4830.0  \n",
       "4             5374.0  \n",
       "5             1252.0  "
      ]
     },
     "execution_count": 17,
     "metadata": {},
     "output_type": "execute_result"
    }
   ],
   "source": [
    "# Statisics for types\n",
    "text_df.groupby('product_type').describe()"
   ]
  },
  {
   "cell_type": "code",
   "execution_count": 18,
   "metadata": {},
   "outputs": [
    {
     "data": {
      "image/png": "[encoded data removed]",
      "text/plain": [
       "<Figure size 432x288 with 1 Axes>"
      ]
     },
     "metadata": {
      "needs_background": "light"
     },
     "output_type": "display_data"
    }
   ],
   "source": [
    "# SIMPLE VISUALIZATION \n",
    "text_df.groupby('product_type').description.count().plot.bar(ylim=0)\n",
    "plt.show()"
   ]
  },
  {
   "cell_type": "markdown",
   "metadata": {},
   "source": [
    "### 03) Text Pre-processing\n"
   ]
  },
  {
   "cell_type": "markdown",
   "metadata": {},
   "source": [
    "> 1- Removing punctions"
   ]
  },
  {
   "cell_type": "code",
   "execution_count": 19,
   "metadata": {},
   "outputs": [],
   "source": [
    "'''\n",
    "remove_punctuation method\n",
    "'''\n",
    "def remove_punctuation(description):\n",
    "    table = str.maketrans('', '', string.punctuation)\n",
    "    return description.translate(table)"
   ]
  },
  {
   "cell_type": "code",
   "execution_count": 20,
   "metadata": {},
   "outputs": [
    {
     "data": {
      "text/html": [
       "<div>\n",
       "<style scoped>\n",
       "    .dataframe tbody tr th:only-of-type {\n",
       "        vertical-align: middle;\n",
       "    }\n",
       "\n",
       "    .dataframe tbody tr th {\n",
       "        vertical-align: top;\n",
       "    }\n",
       "\n",
       "    .dataframe thead th {\n",
       "        text-align: right;\n",
       "    }\n",
       "</style>\n",
       "<table border=\"1\" class=\"dataframe\">\n",
       "  <thead>\n",
       "    <tr style=\"text-align: right;\">\n",
       "      <th></th>\n",
       "      <th>product_type</th>\n",
       "      <th>description</th>\n",
       "      <th>length</th>\n",
       "    </tr>\n",
       "  </thead>\n",
       "  <tbody>\n",
       "    <tr>\n",
       "      <th>0</th>\n",
       "      <td>2</td>\n",
       "      <td>Lippie Pencil A longwearing and highintensity ...</td>\n",
       "      <td>232</td>\n",
       "    </tr>\n",
       "    <tr>\n",
       "      <th>1</th>\n",
       "      <td>2</td>\n",
       "      <td>Blotted Lip Sheer matte lipstick that creates ...</td>\n",
       "      <td>146</td>\n",
       "    </tr>\n",
       "    <tr>\n",
       "      <th>2</th>\n",
       "      <td>2</td>\n",
       "      <td>Lippie Stix Formula contains Vitamin E Mango A...</td>\n",
       "      <td>188</td>\n",
       "    </tr>\n",
       "    <tr>\n",
       "      <th>3</th>\n",
       "      <td>3</td>\n",
       "      <td>Developed for the Selfie Age our buildable ful...</td>\n",
       "      <td>492</td>\n",
       "    </tr>\n",
       "    <tr>\n",
       "      <th>4</th>\n",
       "      <td>2</td>\n",
       "      <td>All of our products are free from lead and hea...</td>\n",
       "      <td>357</td>\n",
       "    </tr>\n",
       "  </tbody>\n",
       "</table>\n",
       "</div>"
      ],
      "text/plain": [
       "   product_type                                        description  length\n",
       "0             2  Lippie Pencil A longwearing and highintensity ...     232\n",
       "1             2  Blotted Lip Sheer matte lipstick that creates ...     146\n",
       "2             2  Lippie Stix Formula contains Vitamin E Mango A...     188\n",
       "3             3  Developed for the Selfie Age our buildable ful...     492\n",
       "4             2  All of our products are free from lead and hea...     357"
      ]
     },
     "execution_count": 20,
     "metadata": {},
     "output_type": "execute_result"
    }
   ],
   "source": [
    "# Applying\n",
    "text_df['description'] = text_df['description'].apply(remove_punctuation)\n",
    "text_df.head()"
   ]
  },
  {
   "cell_type": "markdown",
   "metadata": {},
   "source": [
    "> 2- Stop words\n"
   ]
  },
  {
   "cell_type": "code",
   "execution_count": 21,
   "metadata": {},
   "outputs": [
    {
     "data": {
      "text/plain": [
       "['i', 'me', 'my', 'myself', 'we', 'our', 'ours', 'ourselves', 'you', \"you're\"]"
      ]
     },
     "execution_count": 21,
     "metadata": {},
     "output_type": "execute_result"
    }
   ],
   "source": [
    "# stopwords showing\n",
    "stop = stopwords.words('english')\n",
    "stop[0:10]"
   ]
  },
  {
   "cell_type": "code",
   "execution_count": 22,
   "metadata": {},
   "outputs": [],
   "source": [
    "'''\n",
    "remove_stopwords method\n",
    "'''\n",
    "def remove_stopwords(text):\n",
    "    text = [word.lower() for word in text.split() if word.lower() not in stop]\n",
    "    return \" \".join(text)"
   ]
  },
  {
   "cell_type": "code",
   "execution_count": 23,
   "metadata": {},
   "outputs": [
    {
     "data": {
      "text/html": [
       "<div>\n",
       "<style scoped>\n",
       "    .dataframe tbody tr th:only-of-type {\n",
       "        vertical-align: middle;\n",
       "    }\n",
       "\n",
       "    .dataframe tbody tr th {\n",
       "        vertical-align: top;\n",
       "    }\n",
       "\n",
       "    .dataframe thead th {\n",
       "        text-align: right;\n",
       "    }\n",
       "</style>\n",
       "<table border=\"1\" class=\"dataframe\">\n",
       "  <thead>\n",
       "    <tr style=\"text-align: right;\">\n",
       "      <th></th>\n",
       "      <th>product_type</th>\n",
       "      <th>description</th>\n",
       "      <th>length</th>\n",
       "    </tr>\n",
       "  </thead>\n",
       "  <tbody>\n",
       "    <tr>\n",
       "      <th>926</th>\n",
       "      <td>1</td>\n",
       "      <td>fall love pacificas long lasting nourishing na...</td>\n",
       "      <td>1049</td>\n",
       "    </tr>\n",
       "    <tr>\n",
       "      <th>927</th>\n",
       "      <td>1</td>\n",
       "      <td>physicians formula organic wear fakeout mascar...</td>\n",
       "      <td>1338</td>\n",
       "    </tr>\n",
       "    <tr>\n",
       "      <th>928</th>\n",
       "      <td>1</td>\n",
       "      <td>physicians formula organic wear lash boosting ...</td>\n",
       "      <td>1868</td>\n",
       "    </tr>\n",
       "    <tr>\n",
       "      <th>929</th>\n",
       "      <td>1</td>\n",
       "      <td>voluminous volume building waterproof mascara’...</td>\n",
       "      <td>936</td>\n",
       "    </tr>\n",
       "    <tr>\n",
       "      <th>930</th>\n",
       "      <td>1</td>\n",
       "      <td>finally natural mascara feel good putting lash...</td>\n",
       "      <td>645</td>\n",
       "    </tr>\n",
       "  </tbody>\n",
       "</table>\n",
       "</div>"
      ],
      "text/plain": [
       "     product_type                                        description  length\n",
       "926             1  fall love pacificas long lasting nourishing na...    1049\n",
       "927             1  physicians formula organic wear fakeout mascar...    1338\n",
       "928             1  physicians formula organic wear lash boosting ...    1868\n",
       "929             1  voluminous volume building waterproof mascara’...     936\n",
       "930             1  finally natural mascara feel good putting lash...     645"
      ]
     },
     "execution_count": 23,
     "metadata": {},
     "output_type": "execute_result"
    }
   ],
   "source": [
    "# Applying\n",
    "text_df['description'] = text_df['description'].apply(remove_stopwords)\n",
    "text_df.tail()"
   ]
  },
  {
   "cell_type": "code",
   "execution_count": 24,
   "metadata": {},
   "outputs": [
    {
     "data": {
      "text/plain": [
       "'serum foundations lightweight mediumcoverage formulations available comprehensive shade range across 21 shades foundations offer moderate coverage looks natural lightweight serum feel low viscosity dispensed supplied pump optional glass dropper available purchase separately preferred'"
      ]
     },
     "execution_count": 24,
     "metadata": {},
     "output_type": "execute_result"
    }
   ],
   "source": [
    "# Test\n",
    "text_df['description'][5]"
   ]
  },
  {
   "cell_type": "markdown",
   "metadata": {},
   "source": [
    "> 3- Stemming\n"
   ]
  },
  {
   "cell_type": "code",
   "execution_count": 25,
   "metadata": {},
   "outputs": [],
   "source": [
    "porter = PorterStemmer()\n",
    "'''\n",
    "Stemmer method\n",
    "'''\n",
    "def stemmer(stem_text):\n",
    "    stem_text = [porter.stem(word) for word in stem_text.split()]\n",
    "    return \" \".join(stem_text)"
   ]
  },
  {
   "cell_type": "code",
   "execution_count": 26,
   "metadata": {},
   "outputs": [
    {
     "data": {
      "text/html": [
       "<div>\n",
       "<style scoped>\n",
       "    .dataframe tbody tr th:only-of-type {\n",
       "        vertical-align: middle;\n",
       "    }\n",
       "\n",
       "    .dataframe tbody tr th {\n",
       "        vertical-align: top;\n",
       "    }\n",
       "\n",
       "    .dataframe thead th {\n",
       "        text-align: right;\n",
       "    }\n",
       "</style>\n",
       "<table border=\"1\" class=\"dataframe\">\n",
       "  <thead>\n",
       "    <tr style=\"text-align: right;\">\n",
       "      <th></th>\n",
       "      <th>product_type</th>\n",
       "      <th>description</th>\n",
       "      <th>length</th>\n",
       "    </tr>\n",
       "  </thead>\n",
       "  <tbody>\n",
       "    <tr>\n",
       "      <th>0</th>\n",
       "      <td>2</td>\n",
       "      <td>lippi pencil longwear highintens lip pencil gl...</td>\n",
       "      <td>232</td>\n",
       "    </tr>\n",
       "    <tr>\n",
       "      <th>1</th>\n",
       "      <td>2</td>\n",
       "      <td>blot lip sheer matt lipstick creat perfect pop...</td>\n",
       "      <td>146</td>\n",
       "    </tr>\n",
       "    <tr>\n",
       "      <th>2</th>\n",
       "      <td>2</td>\n",
       "      <td>lippi stix formula contain vitamin e mango avo...</td>\n",
       "      <td>188</td>\n",
       "    </tr>\n",
       "    <tr>\n",
       "      <th>3</th>\n",
       "      <td>3</td>\n",
       "      <td>develop selfi age buildabl full coverag natur ...</td>\n",
       "      <td>492</td>\n",
       "    </tr>\n",
       "    <tr>\n",
       "      <th>4</th>\n",
       "      <td>2</td>\n",
       "      <td>product free lead heavi metal paraben phthalat...</td>\n",
       "      <td>357</td>\n",
       "    </tr>\n",
       "  </tbody>\n",
       "</table>\n",
       "</div>"
      ],
      "text/plain": [
       "   product_type                                        description  length\n",
       "0             2  lippi pencil longwear highintens lip pencil gl...     232\n",
       "1             2  blot lip sheer matt lipstick creat perfect pop...     146\n",
       "2             2  lippi stix formula contain vitamin e mango avo...     188\n",
       "3             3  develop selfi age buildabl full coverag natur ...     492\n",
       "4             2  product free lead heavi metal paraben phthalat...     357"
      ]
     },
     "execution_count": 26,
     "metadata": {},
     "output_type": "execute_result"
    }
   ],
   "source": [
    "# Applying\n",
    "text_df['description'] = text_df['description'].apply(stemmer)\n",
    "text_df.head()"
   ]
  },
  {
   "cell_type": "code",
   "execution_count": 27,
   "metadata": {},
   "outputs": [
    {
     "data": {
      "text/plain": [
       "'serum foundat lightweight mediumcoverag formul avail comprehens shade rang across 21 shade foundat offer moder coverag look natur lightweight serum feel low viscos dispens suppli pump option glass dropper avail purchas separ prefer'"
      ]
     },
     "execution_count": 27,
     "metadata": {},
     "output_type": "execute_result"
    }
   ],
   "source": [
    "# Checking\n",
    "text_df['description'][5]"
   ]
  },
  {
   "cell_type": "markdown",
   "metadata": {},
   "source": [
    "> 4- Part of Speech Tagging\n"
   ]
  },
  {
   "cell_type": "code",
   "execution_count": 28,
   "metadata": {},
   "outputs": [
    {
     "name": "stderr",
     "output_type": "stream",
     "text": [
      "[nltk_data] Downloading package averaged_perceptron_tagger to\n",
      "[nltk_data]     /home/abdelfattah/nltk_data...\n",
      "[nltk_data]   Package averaged_perceptron_tagger is already up-to-\n",
      "[nltk_data]       date!\n"
     ]
    },
    {
     "data": {
      "text/plain": [
       "True"
      ]
     },
     "execution_count": 28,
     "metadata": {},
     "output_type": "execute_result"
    }
   ],
   "source": [
    "import nltk\n",
    "nltk.download('averaged_perceptron_tagger')"
   ]
  },
  {
   "cell_type": "code",
   "execution_count": 29,
   "metadata": {
    "scrolled": true
   },
   "outputs": [
    {
     "data": {
      "text/plain": [
       "[('serum', 'NN'),\n",
       " ('foundat', 'NN'),\n",
       " ('lightweight', 'VBD'),\n",
       " ('mediumcoverag', 'NNS'),\n",
       " ('formul', 'JJ'),\n",
       " ('avail', 'NN'),\n",
       " ('comprehens', 'NNS'),\n",
       " ('shade', 'VBD'),\n",
       " ('rang', 'NN'),\n",
       " ('across', 'IN'),\n",
       " ('21', 'CD'),\n",
       " ('shade', 'NN'),\n",
       " ('foundat', 'NN'),\n",
       " ('offer', 'NN'),\n",
       " ('moder', 'NN'),\n",
       " ('coverag', 'NN'),\n",
       " ('look', 'NN'),\n",
       " ('natur', 'JJ'),\n",
       " ('lightweight', 'JJ'),\n",
       " ('serum', 'NN'),\n",
       " ('feel', 'NN'),\n",
       " ('low', 'JJ'),\n",
       " ('viscos', 'NN'),\n",
       " ('dispens', 'VBZ'),\n",
       " ('suppli', 'JJ'),\n",
       " ('pump', 'NN'),\n",
       " ('option', 'NN'),\n",
       " ('glass', 'NN'),\n",
       " ('dropper', 'NN'),\n",
       " ('avail', 'NN'),\n",
       " ('purchas', 'NN'),\n",
       " ('separ', 'NN'),\n",
       " ('prefer', 'VBP')]"
      ]
     },
     "execution_count": 29,
     "metadata": {},
     "output_type": "execute_result"
    }
   ],
   "source": [
    "# Testing only\n",
    "tokens = text_df['description'][5]\n",
    "\n",
    "nltk.pos_tag(word_tokenize(tokens))"
   ]
  },
  {
   "cell_type": "markdown",
   "metadata": {},
   "source": [
    "> 4- Bag of words\n",
    "    - CountVectorizer "
   ]
  },
  {
   "cell_type": "code",
   "execution_count": 30,
   "metadata": {},
   "outputs": [],
   "source": [
    "'''\n",
    "COUNT VECTORIZER for ENCODING\n",
    "'''\n",
    "vectorizer = CountVectorizer()\n",
    "vectorizer.fit(text_df['description'])\n",
    "vector = vectorizer.transform(text_df['description'])"
   ]
  },
  {
   "cell_type": "code",
   "execution_count": 31,
   "metadata": {},
   "outputs": [
    {
     "name": "stdout",
     "output_type": "stream",
     "text": [
      "(906, 5891)\n",
      "[[0 0 0 ... 0 0 0]\n",
      " [0 0 0 ... 0 0 0]\n",
      " [0 0 0 ... 0 0 0]\n",
      " ...\n",
      " [0 0 0 ... 0 0 0]\n",
      " [0 0 0 ... 0 0 0]\n",
      " [0 0 0 ... 0 0 0]]\n"
     ]
    }
   ],
   "source": [
    "print(vector.shape)\n",
    "print(vector.toarray())"
   ]
  },
  {
   "cell_type": "markdown",
   "metadata": {},
   "source": [
    "> 5- TF-IDF\n",
    "    - Term Frequency–Inverse Document Frequency"
   ]
  },
  {
   "cell_type": "code",
   "execution_count": 32,
   "metadata": {},
   "outputs": [
    {
     "data": {
      "text/plain": [
       "array([[0., 0., 0., ..., 0., 0., 0.],\n",
       "       [0., 0., 0., ..., 0., 0., 0.],\n",
       "       [0., 0., 0., ..., 0., 0., 0.],\n",
       "       ...,\n",
       "       [0., 0., 0., ..., 0., 0., 0.],\n",
       "       [0., 0., 0., ..., 0., 0., 0.],\n",
       "       [0., 0., 0., ..., 0., 0., 0.]])"
      ]
     },
     "execution_count": 32,
     "metadata": {},
     "output_type": "execute_result"
    }
   ],
   "source": [
    "# extract tfid \n",
    "tfidf_converter = TfidfTransformer()\n",
    "df_x_tfidf = tfidf_converter.fit_transform(vector).toarray()\n",
    "df_x_tfidf"
   ]
  },
  {
   "cell_type": "markdown",
   "metadata": {},
   "source": [
    "### 04) Splitting Data "
   ]
  },
  {
   "cell_type": "code",
   "execution_count": 33,
   "metadata": {},
   "outputs": [],
   "source": [
    "X = df_x_tfidf\n",
    "y = text_df['product_type']\n",
    "\n",
    "X_train, X_test, y_train, y_test = train_test_split(X, y, test_size=0.25, random_state = 0)"
   ]
  },
  {
   "cell_type": "code",
   "execution_count": 34,
   "metadata": {},
   "outputs": [
    {
     "data": {
      "text/plain": [
       "((679, 5891), (227, 5891), (679,), (227,))"
      ]
     },
     "execution_count": 34,
     "metadata": {},
     "output_type": "execute_result"
    }
   ],
   "source": [
    "X_train.shape, X_test.shape, y_train.shape, y_test.shape"
   ]
  },
  {
   "cell_type": "markdown",
   "metadata": {},
   "source": [
    "### 05) Build the model\n",
    "\n",
    "    - The problem: Multi-classification\n",
    "    - Algorthims: Logistic Regression."
   ]
  },
  {
   "cell_type": "markdown",
   "metadata": {},
   "source": [
    "> 5.1) Logistic Regression\n"
   ]
  },
  {
   "cell_type": "code",
   "execution_count": 35,
   "metadata": {},
   "outputs": [
    {
     "data": {
      "text/plain": [
       "LogisticRegression(C=1.0, class_weight=None, dual=False, fit_intercept=True,\n",
       "                   intercept_scaling=1, l1_ratio=None, max_iter=100,\n",
       "                   multi_class='auto', n_jobs=None, penalty='l2',\n",
       "                   random_state=None, solver='lbfgs', tol=0.0001, verbose=0,\n",
       "                   warm_start=False)"
      ]
     },
     "execution_count": 35,
     "metadata": {},
     "output_type": "execute_result"
    }
   ],
   "source": [
    "LR_Model_log = LogisticRegression()\n",
    "LR_Model_log.fit(X_train, y_train)"
   ]
  },
  {
   "cell_type": "code",
   "execution_count": 36,
   "metadata": {},
   "outputs": [],
   "source": [
    "# Preparing sets using numpy\n",
    "ytest = np.array(y_test)\n",
    "pred = LR_Model_log.predict(X_test)"
   ]
  },
  {
   "cell_type": "markdown",
   "metadata": {},
   "source": [
    "### 06) Confusion Matrix & Classification Report"
   ]
  },
  {
   "cell_type": "code",
   "execution_count": 37,
   "metadata": {},
   "outputs": [
    {
     "name": "stdout",
     "output_type": "stream",
     "text": [
      "ACCURACY : 0.9251101321585903 \n",
      "\n"
     ]
    }
   ],
   "source": [
    "print('ACCURACY : %s \\n' % accuracy_score(pred, y_test))\n"
   ]
  },
  {
   "cell_type": "code",
   "execution_count": 38,
   "metadata": {
    "scrolled": true
   },
   "outputs": [
    {
     "name": "stdout",
     "output_type": "stream",
     "text": [
      "              precision    recall  f1-score   support\n",
      "\n",
      "           1       0.91      0.99      0.95        98\n",
      "           2       0.95      0.91      0.93        46\n",
      "           3       0.92      0.86      0.89        28\n",
      "           4       0.91      0.86      0.89        37\n",
      "           5       1.00      0.83      0.91        18\n",
      "\n",
      "    accuracy                           0.93       227\n",
      "   macro avg       0.94      0.89      0.91       227\n",
      "weighted avg       0.93      0.93      0.92       227\n",
      "\n"
     ]
    }
   ],
   "source": [
    "print(classification_report(ytest, pred))\n"
   ]
  },
  {
   "cell_type": "code",
   "execution_count": 39,
   "metadata": {
    "scrolled": true
   },
   "outputs": [
    {
     "name": "stdout",
     "output_type": "stream",
     "text": [
      "[[97  0  0  1  0]\n",
      " [ 4 42  0  0  0]\n",
      " [ 2  0 24  2  0]\n",
      " [ 1  2  2 32  0]\n",
      " [ 3  0  0  0 15]]\n"
     ]
    }
   ],
   "source": [
    "print(confusion_matrix(ytest, pred))"
   ]
  },
  {
   "cell_type": "code",
   "execution_count": 40,
   "metadata": {},
   "outputs": [],
   "source": [
    "# save the model to disk\n",
    "import pickle\n",
    "filename = 'LR_model.sav'\n",
    "pickle.dump(LR_Model_log, open(filename, 'wb'))"
   ]
  },
  {
   "cell_type": "code",
   "execution_count": 41,
   "metadata": {},
   "outputs": [
    {
     "name": "stdout",
     "output_type": "stream",
     "text": [
      "0.9251101321585903\n"
     ]
    }
   ],
   "source": [
    "# load the model from disk\n",
    "loaded_model = pickle.load(open(filename, 'rb'))\n",
    "result = loaded_model.score(X_test, y_test)\n",
    "print(result)"
   ]
  },
  {
   "cell_type": "markdown",
   "metadata": {},
   "source": [
    "### End of PROJECT"
   ]
  }
 ],
 "metadata": {
  "kernelspec": {
   "display_name": "Python 3",
   "language": "python",
   "name": "python3"
  },
  "language_info": {
   "codemirror_mode": {
    "name": "ipython",
    "version": 3
   },
   "file_extension": ".py",
   "mimetype": "text/x-python",
   "name": "python",
   "nbconvert_exporter": "python",
   "pygments_lexer": "ipython3",
   "version": "3.7.6"
  }
 },
 "nbformat": 4,
 "nbformat_minor": 2
}
